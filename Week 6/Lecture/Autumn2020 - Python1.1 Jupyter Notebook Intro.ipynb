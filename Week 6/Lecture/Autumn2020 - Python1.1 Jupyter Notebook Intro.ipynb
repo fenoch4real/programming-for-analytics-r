{
 "cells": [
  {
   "cell_type": "markdown",
   "metadata": {},
   "source": [
    "# Introduction to Jupyter Notebook\n",
    "\n",
    "## What is Jupyter Notebook?\n",
    "\n",
    "The Jupyter Notebook is an open-source web application that allows you to create and share documents that contain live code, equations, visualizations and narrative text. \n",
    "\n",
    "Uses include: data cleaning and transformation, numerical simulation, statistical modeling, data visualization, machine learning, and much more.\n",
    "\n",
    "In this case, \"notebook\" or \"notebook documents\" denote documents that contain both code and rich text elements, such as figures, links, equations, ... Because of the mix of code and text elements, these documents are the ideal place to bring together an analysis description, and its results, as well as, they can be executed to perform the data analysis in real time.\n",
    "\n",
    "**\"Jupyter\"** is a loose acronym meaning **Julia, Python, and R**. These programming languages were the first target languages of the Jupyter application, but nowadays, the notebook technology also supports many other languages. \n",
    "\n",
    "All the code in the course is compatible with any text editor or IDE that works with Python."
   ]
  },
  {
   "cell_type": "code",
   "execution_count": 1,
   "metadata": {},
   "outputs": [
    {
     "data": {
      "text/plain": [
       "'/Users/oluwafemifabiyi/Desktop/MSc Analytics/Autumn 2020/MSCA 37010 2 - Programming for Analytics/Week 6/Lecture'"
      ]
     },
     "execution_count": 1,
     "metadata": {},
     "output_type": "execute_result"
    }
   ],
   "source": [
    "%pwd"
   ]
  },
  {
   "cell_type": "markdown",
   "metadata": {},
   "source": [
    "## What Is the Jupyter Notebook app?\n",
    "\n",
    "As a server-client application, the Jupyter Notebook app allows you to edit and run your notebooks via a web browser. The application can be executed on a PC without internet access, or it can be installed on a remote server, where you can access it through the Internet.\n",
    "\n",
    "Its two main components are the **kernels** and a **dashboard**.\n",
    "\n",
    "- A **kernel** is a program that runs the user’s code. The Jupyter Notebook app has a kernel for Python code, but there are also kernels available for other programming languages.\n",
    "\n",
    "- The **dashboard** of the application not only shows you the notebook documents that you have made and can reopen but can also be used to manage the kernels: you can use it to decide which ones are running and shut them down if necessary."
   ]
  },
  {
   "cell_type": "markdown",
   "metadata": {},
   "source": [
    "## The History of iPython and Jupyter Notebook\n",
    "\n",
    "To fully understand what the Jupyter Notebook is and what functionality it has to offer you need to know how it originated. \n",
    "\n",
    "- **Late 1980s**, Guido Van Rossum begins to work on Python at the National Research Institute for Mathematics and Computer Science in the Netherlands.\n",
    "\n",
    "- **In 2001**, Fernando Pérez starts developing iPython.\n",
    "\n",
    "- **In 2005**, both Robert Kern and Fernando Pérez attempted building a notebook system. Unfortunately, the prototype never became fully usable. \n",
    "\n",
    "- **In 2007**, the iPython team had kept on working and formulated another attempt at implementing a notebook-type system. \n",
    "\n",
    "- **By October 2010**, there was a prototype of a web notebook.\n",
    "\n",
    "- **In the summer of 2011**, this prototype was incorporated, and it was released as version 0.12 on December 21, 2011. \n",
    "\n",
    "- **In subsequent years**, the team got awards, such as the Advancement of Free Software for Fernando Pérez on 23 of March 2013 and the Jolt Productivity Award, and funding from the Alfred P. Sloan Foundations, among others. \n",
    "\n",
    "- **Lastly, in 2014**, Project Jupyter started as a spin-off project from iPython. iPython is now the name of the Python backend, which is also known as the kernel. Recently, the next generation of Jupyter Notebooks has been introduced to the community. It's called JupyterLab.\n",
    "\n",
    "After all this, you might wonder where this idea of notebooks originated or how it came about to the creators.\n",
    "\n",
    "A brief research into the history of these notebooks finds that Fernando Pérez and Robert Kern were working on a notebook just at the same time as the Sage notebook was a work in progress. Since the layout of the Sage notebook was based on the layout of Google notebooks, you can also conclude that also Google used to have a notebook feature around that time. \n",
    "\n",
    "For what concerns the idea of the notebook, it seems that Fernando Pérez, as well as William Stein, one of the creators of the Sage notebook, have confirmed that they were avid users of the Mathematica notebooks and Maple worksheets. The Mathematica notebooks were created as a front end or GUI in 1988 by Theodore Gray. \n",
    "\n",
    "The concept of a notebook, which contains ordinary text and calculation and/or graphics, was definitely not new. \n"
   ]
  },
  {
   "cell_type": "markdown",
   "metadata": {},
   "source": [
    "## How to Use Jupyter Notebook"
   ]
  },
  {
   "cell_type": "markdown",
   "metadata": {},
   "source": [
    "### 1. Two ways to open Jupyter Notebook:\n",
    "\n",
    "1. Click on Anaconda icon\n",
    "\n",
    "2. Type\"cmd\" --> \"Anaconda Prompt\" --> Type in \"jupyter notebook\" --> Hit \"Enter\"\n"
   ]
  },
  {
   "cell_type": "markdown",
   "metadata": {},
   "source": [
    "### 2.    Run your Python command \n",
    "Hit `Ctrl` + `ENTER` to run your Python command in the current cell\n",
    "\n",
    "Hit `SHIFT` + `ENTER` to run your Python command in the current cell and select below\n",
    "      \n",
    "Hit `Alt` + `ENTER` to run your Python command in the current cell and insert below (Windows Users)\n",
    "\n",
    "Hit `Option` + `ENTER` to run your Python command in the current cell and insert below (Mac Users)\n",
    "\n",
    "Hit `A` to add a cell above and Hit `B` to add a cell below when the current cell is not in editing mode (when showing a blue color bar on the left of the current cell instead of a green bar)\n",
    "\n",
    "#### Note: Go to \"Help\" --> \"Keyboard Shortcuts\" for more shortcuts"
   ]
  },
  {
   "cell_type": "markdown",
   "metadata": {},
   "source": [
    "### 3. Walk through the main buttons"
   ]
  },
  {
   "cell_type": "markdown",
   "metadata": {},
   "source": [
    "### 4. Type your Python command. It can be a multi-line command too."
   ]
  },
  {
   "cell_type": "code",
   "execution_count": 2,
   "metadata": {},
   "outputs": [
    {
     "name": "stdin",
     "output_type": "stream",
     "text": [
      "Enter your name:  Femi\n"
     ]
    },
    {
     "name": "stdout",
     "output_type": "stream",
     "text": [
      "Hello Femi\n"
     ]
    }
   ],
   "source": [
    "name = input(\"Enter your name: \")\n",
    "print(\"Hello\", name)"
   ]
  },
  {
   "cell_type": "markdown",
   "metadata": {},
   "source": [
    "### 5. Stop the running of your Python command\n",
    "\n",
    "If you want to stop the running, go to `Kernel` --> `Restart` \n",
    "\n",
    "If you want to stop the running, go to `Kernel` --> `Interrupt` (similar as \"Restart\" but does not always go well if a very bad loop)\n",
    "   \n",
    "If you want to stop the running and clear the ouput, go to `Kernel` --> `Restart & Clear Output`"
   ]
  },
  {
   "cell_type": "code",
   "execution_count": null,
   "metadata": {},
   "outputs": [],
   "source": [
    "print(\"Your Name\")"
   ]
  },
  {
   "cell_type": "code",
   "execution_count": null,
   "metadata": {},
   "outputs": [],
   "source": [
    "# A simple python code sample\n",
    "x = 34 - 23    # A comment\n",
    "xy = \"Hello\"   # Another comment\n",
    "xyz = 3.45\n",
    "    \n",
    "if xyz == 3.45 or xy == \"Hello\":\n",
    "    x = x + 1\n",
    "    xy = xy + \" World\"   # String concatenation\n",
    "print (x)\n",
    "print (xy)"
   ]
  },
  {
   "cell_type": "code",
   "execution_count": null,
   "metadata": {},
   "outputs": [],
   "source": [
    "x = 34 - 23    # A comment\n",
    "x"
   ]
  },
  {
   "cell_type": "markdown",
   "metadata": {},
   "source": [
    "#### Note: `=` is an assignment operator vs. `==` is an equality operator"
   ]
  },
  {
   "cell_type": "code",
   "execution_count": null,
   "metadata": {},
   "outputs": [],
   "source": [
    "# Practice: print My name is XXX. Hello Python World\n",
    "print('My name is', name, ', Hello Python World!')"
   ]
  },
  {
   "cell_type": "markdown",
   "metadata": {},
   "source": [
    "### 6. Start typing `Shift + Tab`\n",
    "\n",
    "   If it’s possible, Jupyter will auto-complete your expression (eg. for Python commands for variables that you have already defined). If there is more than one possibility, you can choose from a drop-down menu."
   ]
  },
  {
   "cell_type": "code",
   "execution_count": null,
   "metadata": {},
   "outputs": [],
   "source": [
    "# Example:\n",
    "xyz.\n"
   ]
  },
  {
   "cell_type": "markdown",
   "metadata": {},
   "source": [
    "### 7. Create Folders and Files\n",
    "\n",
    "Go to the Jupyter Notebook Home Page: \n",
    "\n",
    "--> Click on `New` Dropdown Box on the upper right corner.\n",
    "\n",
    "--> Select either `Python 3` to create a new notebook with Python 3 or `Folder` to create a new folder."
   ]
  },
  {
   "cell_type": "code",
   "execution_count": null,
   "metadata": {},
   "outputs": [],
   "source": [
    "# Exercise: Create your own Assignment Folder\n"
   ]
  },
  {
   "cell_type": "markdown",
   "metadata": {},
   "source": [
    "### 8. How to create a .py file from your notebook in order to open the script in other applications?\n",
    "We save the python script as `.ipynb` file in Jupyter Notebook. If we need to create and open a `.py` file in other applications, we can follow these steps:\n",
    "\n",
    "--> Go to `File`\n",
    "\n",
    "--> Then go to `Download as`\n",
    "\n",
    "--> Select the file type `.py` \n",
    "\n",
    "Or, use nbconvert"
   ]
  },
  {
   "cell_type": "markdown",
   "metadata": {},
   "source": [
    "### 9. Path and Folder Management (see 1.2 for more details)\n",
    "\n",
    "#### Get Work Directory"
   ]
  },
  {
   "cell_type": "code",
   "execution_count": null,
   "metadata": {},
   "outputs": [],
   "source": [
    "%pwd  # To find out where your notebooks are type: pwd in a cell. This will print your working directory."
   ]
  },
  {
   "cell_type": "markdown",
   "metadata": {},
   "source": [
    "### The `os` module (`os` stands for operating system)\n",
    "\n",
    "**The `os` module in Python provides functions for interacting with the operating system.** OS comes under Python’s standard utility modules. This module provides a portable way of using operating system dependent functionality. The `os` and `os.path` modules include many functions to interact with the file system.\n",
    "\n",
    "Below are some basic commands; we will learn more about how to import this package, its basic functionalities to navigate, create, delete and modify files and folders here in `PythonIntro-1.2`"
   ]
  },
  {
   "cell_type": "code",
   "execution_count": null,
   "metadata": {},
   "outputs": [],
   "source": [
    "import os\n",
    "os.getcwd()    # print the current directory vs. RStudio: getwd()"
   ]
  },
  {
   "cell_type": "code",
   "execution_count": null,
   "metadata": {},
   "outputs": [],
   "source": [
    "print(os.getcwd())"
   ]
  },
  {
   "cell_type": "code",
   "execution_count": null,
   "metadata": {},
   "outputs": [],
   "source": [
    "os.listdir(os.getcwd())       # list directory contents"
   ]
  },
  {
   "cell_type": "markdown",
   "metadata": {},
   "source": [
    "#### Change Work Directory"
   ]
  },
  {
   "cell_type": "code",
   "execution_count": null,
   "metadata": {},
   "outputs": [],
   "source": [
    "os.chdir('C:\\Downloads')      # vs. setwd() in RStudio\n",
    "print(os.getcwd())\n",
    "# Or, go to cmd --> anaconda prompt --> type in \"cd\" to change directory"
   ]
  },
  {
   "cell_type": "code",
   "execution_count": null,
   "metadata": {},
   "outputs": [],
   "source": [
    "os.chdir(r'C:\\Users\\chris\\PythonProgramming')\n",
    "\n",
    "# Note: There might be an error occurs because you are using a normal string as a path. \n",
    "# To fix your problem, just put r before your normal string it converts normal string to raw string"
   ]
  },
  {
   "cell_type": "code",
   "execution_count": null,
   "metadata": {},
   "outputs": [],
   "source": [
    "%pwd"
   ]
  },
  {
   "cell_type": "markdown",
   "metadata": {},
   "source": [
    "### 10. Markdown for Jupyter Notebook: "
   ]
  },
  {
   "cell_type": "markdown",
   "metadata": {},
   "source": [
    "### 1) Select Cell Type:\n",
    "\n",
    "Go to `Cell` --> `Cell Type` --> `Markdown`\n",
    "\n",
    "Note: `Raw NBConvert`, basically it's only of any use if you intend to use the command line tool nbconvert to convert the notebook to another format (such as HTML or Latex). When you do, cells marked as Raw NBConvert Format will be converted in a way specific to the output you're targetting."
   ]
  },
  {
   "cell_type": "markdown",
   "metadata": {},
   "source": [
    "### 2) 4 Different Text Sizes:\n",
    "\n",
    "\n",
    "# Size 1. title \n",
    "## Size 2. major headings \n",
    "### Size 3. subheadings \n",
    "#### Size 4. 4th level subheadings"
   ]
  },
  {
   "cell_type": "markdown",
   "metadata": {},
   "source": [
    "#### Note: Use this code\n",
    "`#` Size 1. title \n",
    "`##` Size 2. major headings \n",
    "`###` Size 3. subheadings \n",
    "`####` Size 4. 4th level subheadings"
   ]
  },
  {
   "cell_type": "markdown",
   "metadata": {},
   "source": [
    "### 3) Emphasis\n",
    "\n",
    "Use this code: \n",
    "\n",
    "Bold: `__`string`__` or `**`string`**`\n",
    "\n",
    "Italic: `_`string`_` or `*`string`*`"
   ]
  },
  {
   "cell_type": "code",
   "execution_count": null,
   "metadata": {},
   "outputs": [],
   "source": [
    "# Exercise\" Create a sentence in bold and italic\n"
   ]
  },
  {
   "cell_type": "markdown",
   "metadata": {},
   "source": [
    "### 4) Mathematical symbols \n",
    "Use this code: \n",
    "`$` mathematical symbols `$`"
   ]
  },
  {
   "cell_type": "markdown",
   "metadata": {},
   "source": [
    "### 5) Line Breaks\n",
    "Sometimes markdown doesn’t make  line breaks when you want them. Use `2 spaces` or this code for a manual line break: \n",
    "\n",
    "e.g.1:\n",
    "\n",
    "`<br>`\n",
    "\n",
    "\n",
    "e.g.2:"
   ]
  },
  {
   "cell_type": "markdown",
   "metadata": {},
   "source": [
    "### 6) Colors: \n",
    "Use this code: `<font color=blue|red|green|pink|yellow>Text</font>` Not all markdown code works within a font tag, so review your colored text carefully.\n",
    "\n",
    "e.g.: <font color=blue>Text</font>"
   ]
  },
  {
   "cell_type": "markdown",
   "metadata": {},
   "source": [
    "### 7) Indented quoting: \n",
    "Use a `greater than` sign (`>`) and then `a space`, then type the text. The text is indented and has a gray horizontal line to the left of it until the next carriage return."
   ]
  },
  {
   "cell_type": "markdown",
   "metadata": {},
   "source": [
    "### 8) Bullets: \n",
    "Use the dash sign (`- `) with a space after it, or a space, a dash, and a space (` - `), to create a circular bullet. \n",
    "To create a sub bullet, use a tab followed a dash and a space. You can also use an asterisk instead of a dash, and it works the same."
   ]
  },
  {
   "cell_type": "markdown",
   "metadata": {},
   "source": [
    "### 9) Numbered lists: \n",
    "Start with 1. followed by a space, then it starts numbering for you. Start each line with some number and a period, then a space. Tab to indent to get subnumbering."
   ]
  },
  {
   "cell_type": "markdown",
   "metadata": {},
   "source": [
    "### 10) Graphics: \n",
    "You can attach image files directly to a notebook only in Markdown cells:\n",
    "\n",
    "--> Set the Cell Type to be Markdown type\n",
    "\n",
    "--> Drag and drop your images to the Markdown cell to attach it to the notebook."
   ]
  },
  {
   "attachments": {
    "Quote.JPG": {
     "image/jpeg": "[encoded data removed]"
    }
   },
   "cell_type": "markdown",
   "metadata": {},
   "source": [
    "![Quote.JPG](attachment:Quote.JPG)"
   ]
  },
  {
   "cell_type": "code",
   "execution_count": null,
   "metadata": {},
   "outputs": [],
   "source": [
    "# Exercise: attach a panda picture or any picture to this notebook\n"
   ]
  },
  {
   "cell_type": "markdown",
   "metadata": {},
   "source": [
    "### 11) Horizontal lines: \n",
    "Use three asterisks: `***`\n",
    "\n",
    "***"
   ]
  },
  {
   "cell_type": "markdown",
   "metadata": {},
   "source": [
    "### Internal links: \n",
    "To link to a section, use this code: [section title](#section-title) For the text in the parentheses, replace spaces and special characters with a hyphen. Make sure to test all the links!\n",
    "\n",
    "Alternatively, you can add an ID for a section right above the section title. Use this code: <a id=\"section_ID\"></a> Make sure that the section_ID is unique within the notebook.\n",
    "\n",
    "Use this code for the link and make sure to test all the links! [section title](#section_ID)"
   ]
  },
  {
   "cell_type": "markdown",
   "metadata": {},
   "source": [
    "### External links: \n",
    "Use this code and test all links [link text](http://url)\n",
    "\n",
    "[link text](https://www.solutionreach.com/blog/which-wins-the-national-average-no-show-rate-or-yours)"
   ]
  },
  {
   "cell_type": "markdown",
   "metadata": {},
   "source": [
    "### 11. Help\n",
    "\n",
    "The regular Python `help()` function also still works and you can use the magic command `%quickref` to show a quick reference sheet. And you'll see a whole bunch of them appearing. You'll probably see some magic commands that you'll grasp, such as `%save`, `%clear`, or `%debug`, but others will be less straightforward.\n",
    "\n",
    "If you're looking for more information on the magic commands or on functions, you can always use the `?`, just like this:"
   ]
  },
  {
   "cell_type": "code",
   "execution_count": null,
   "metadata": {},
   "outputs": [],
   "source": [
    "%quickref"
   ]
  },
  {
   "cell_type": "code",
   "execution_count": null,
   "metadata": {},
   "outputs": [],
   "source": [
    "# Retrieving documentation on the alias_magic command\n",
    "?%alias_magic"
   ]
  },
  {
   "cell_type": "code",
   "execution_count": null,
   "metadata": {},
   "outputs": [],
   "source": [
    "# Retrieving information on the range() function\n",
    "?range"
   ]
  },
  {
   "cell_type": "code",
   "execution_count": null,
   "metadata": {
    "scrolled": true
   },
   "outputs": [],
   "source": [
    "help()"
   ]
  },
  {
   "cell_type": "markdown",
   "metadata": {},
   "source": [
    "#### Or, Search Google and StackOverflow for your error messages and see if you can find a posted solution"
   ]
  },
  {
   "cell_type": "markdown",
   "metadata": {},
   "source": [
    "#### How to get the Docstring and method list pop-ups in Jupyter Notebook: \n",
    "\n",
    "Use Tab with your cursor directly after a defined variable to see the list of methods. "
   ]
  },
  {
   "cell_type": "code",
   "execution_count": 1,
   "metadata": {},
   "outputs": [],
   "source": [
    "# Example\n",
    "A_list = [1,2,3,4] # type: A_list. (ending with the dot) and then press Tab to see the list of methods. \n",
    "                   # For the doctrings of functions, use Shift+Tab with your cursor right after the function."
   ]
  },
  {
   "cell_type": "code",
   "execution_count": 2,
   "metadata": {},
   "outputs": [
    {
     "data": {
      "text/plain": [
       "[1, 2, 3, 4]"
      ]
     },
     "execution_count": 2,
     "metadata": {},
     "output_type": "execute_result"
    }
   ],
   "source": [
    "A_list"
   ]
  },
  {
   "cell_type": "markdown",
   "metadata": {},
   "source": [
    "### 12. Making your Jupyter Notebook magical\n",
    "\n",
    "If you want to get the most out of your notebooks with the iPython kernel, you should consider learning about the so-called \"magic commands\". \n",
    "\n",
    "Also, consider adding even more interactivity to your notebook so that it becomes an interactive dashboard to others should be one of your considerations.  \n",
    "\n",
    "The notebook's built-in commands: There are some predefined ‘magic functions’ that will make your work a lot more interactive. \n",
    "\n",
    "To see which magic commands you have available in your interpreter, you can simply run the following:"
   ]
  },
  {
   "cell_type": "code",
   "execution_count": 3,
   "metadata": {},
   "outputs": [
    {
     "data": {
      "application/json": {
       "cell": {
        "!": "OSMagics",
        "HTML": "Other",
        "SVG": "Other",
        "bash": "Other",
        "capture": "ExecutionMagics",
        "debug": "ExecutionMagics",
        "file": "Other",
        "html": "DisplayMagics",
        "javascript": "DisplayMagics",
        "js": "DisplayMagics",
        "latex": "DisplayMagics",
        "markdown": "DisplayMagics",
        "perl": "Other",
        "prun": "ExecutionMagics",
        "pypy": "Other",
        "python": "Other",
        "python2": "Other",
        "python3": "Other",
        "ruby": "Other",
        "script": "ScriptMagics",
        "sh": "Other",
        "svg": "DisplayMagics",
        "sx": "OSMagics",
        "system": "OSMagics",
        "time": "ExecutionMagics",
        "timeit": "ExecutionMagics",
        "writefile": "OSMagics"
       },
       "line": {
        "alias": "OSMagics",
        "alias_magic": "BasicMagics",
        "autoawait": "AsyncMagics",
        "autocall": "AutoMagics",
        "automagic": "AutoMagics",
        "autosave": "KernelMagics",
        "bookmark": "OSMagics",
        "cat": "Other",
        "cd": "OSMagics",
        "clear": "KernelMagics",
        "colors": "BasicMagics",
        "conda": "PackagingMagics",
        "config": "ConfigMagics",
        "connect_info": "KernelMagics",
        "cp": "Other",
        "debug": "ExecutionMagics",
        "dhist": "OSMagics",
        "dirs": "OSMagics",
        "doctest_mode": "BasicMagics",
        "ed": "Other",
        "edit": "KernelMagics",
        "env": "OSMagics",
        "gui": "BasicMagics",
        "hist": "Other",
        "history": "HistoryMagics",
        "killbgscripts": "ScriptMagics",
        "ldir": "Other",
        "less": "KernelMagics",
        "lf": "Other",
        "lk": "Other",
        "ll": "Other",
        "load": "CodeMagics",
        "load_ext": "ExtensionMagics",
        "loadpy": "CodeMagics",
        "logoff": "LoggingMagics",
        "logon": "LoggingMagics",
        "logstart": "LoggingMagics",
        "logstate": "LoggingMagics",
        "logstop": "LoggingMagics",
        "ls": "Other",
        "lsmagic": "BasicMagics",
        "lx": "Other",
        "macro": "ExecutionMagics",
        "magic": "BasicMagics",
        "man": "KernelMagics",
        "matplotlib": "PylabMagics",
        "mkdir": "Other",
        "more": "KernelMagics",
        "mv": "Other",
        "notebook": "BasicMagics",
        "page": "BasicMagics",
        "pastebin": "CodeMagics",
        "pdb": "ExecutionMagics",
        "pdef": "NamespaceMagics",
        "pdoc": "NamespaceMagics",
        "pfile": "NamespaceMagics",
        "pinfo": "NamespaceMagics",
        "pinfo2": "NamespaceMagics",
        "pip": "PackagingMagics",
        "popd": "OSMagics",
        "pprint": "BasicMagics",
        "precision": "BasicMagics",
        "prun": "ExecutionMagics",
        "psearch": "NamespaceMagics",
        "psource": "NamespaceMagics",
        "pushd": "OSMagics",
        "pwd": "OSMagics",
        "pycat": "OSMagics",
        "pylab": "PylabMagics",
        "qtconsole": "KernelMagics",
        "quickref": "BasicMagics",
        "recall": "HistoryMagics",
        "rehashx": "OSMagics",
        "reload_ext": "ExtensionMagics",
        "rep": "Other",
        "rerun": "HistoryMagics",
        "reset": "NamespaceMagics",
        "reset_selective": "NamespaceMagics",
        "rm": "Other",
        "rmdir": "Other",
        "run": "ExecutionMagics",
        "save": "CodeMagics",
        "sc": "OSMagics",
        "set_env": "OSMagics",
        "store": "StoreMagics",
        "sx": "OSMagics",
        "system": "OSMagics",
        "tb": "ExecutionMagics",
        "time": "ExecutionMagics",
        "timeit": "ExecutionMagics",
        "unalias": "OSMagics",
        "unload_ext": "ExtensionMagics",
        "who": "NamespaceMagics",
        "who_ls": "NamespaceMagics",
        "whos": "NamespaceMagics",
        "xdel": "NamespaceMagics",
        "xmode": "BasicMagics"
       }
      },
      "text/plain": [
       "Available line magics:\n",
       "%alias  %alias_magic  %autoawait  %autocall  %automagic  %autosave  %bookmark  %cat  %cd  %clear  %colors  %conda  %config  %connect_info  %cp  %debug  %dhist  %dirs  %doctest_mode  %ed  %edit  %env  %gui  %hist  %history  %killbgscripts  %ldir  %less  %lf  %lk  %ll  %load  %load_ext  %loadpy  %logoff  %logon  %logstart  %logstate  %logstop  %ls  %lsmagic  %lx  %macro  %magic  %man  %matplotlib  %mkdir  %more  %mv  %notebook  %page  %pastebin  %pdb  %pdef  %pdoc  %pfile  %pinfo  %pinfo2  %pip  %popd  %pprint  %precision  %prun  %psearch  %psource  %pushd  %pwd  %pycat  %pylab  %qtconsole  %quickref  %recall  %rehashx  %reload_ext  %rep  %rerun  %reset  %reset_selective  %rm  %rmdir  %run  %save  %sc  %set_env  %store  %sx  %system  %tb  %time  %timeit  %unalias  %unload_ext  %who  %who_ls  %whos  %xdel  %xmode\n",
       "\n",
       "Available cell magics:\n",
       "%%!  %%HTML  %%SVG  %%bash  %%capture  %%debug  %%file  %%html  %%javascript  %%js  %%latex  %%markdown  %%perl  %%prun  %%pypy  %%python  %%python2  %%python3  %%ruby  %%script  %%sh  %%svg  %%sx  %%system  %%time  %%timeit  %%writefile\n",
       "\n",
       "Automagic is ON, % prefix IS NOT needed for line magics."
      ]
     },
     "execution_count": 3,
     "metadata": {},
     "output_type": "execute_result"
    }
   ],
   "source": [
    "%lsmagic"
   ]
  },
  {
   "cell_type": "code",
   "execution_count": null,
   "metadata": {},
   "outputs": [],
   "source": [
    "# CPU or execution time - measure how mucn time a CPU spent on executing a program\n",
    "\n",
    "# Wall-clock time - also called elapsed or running time, measure the total time spent execute a program in a computer.\n"
   ]
  },
  {
   "cell_type": "code",
   "execution_count": 9,
   "metadata": {},
   "outputs": [
    {
     "data": {
      "text/plain": [
       "time.struct_time(tm_year=2020, tm_mon=11, tm_mday=13, tm_hour=17, tm_min=46, tm_sec=32, tm_wday=4, tm_yday=318, tm_isdst=0)"
      ]
     },
     "execution_count": 9,
     "metadata": {},
     "output_type": "execute_result"
    }
   ],
   "source": [
    "import time\n",
    "time.time()   # shows wall-clock time\n",
    "time.gmtime()  # shows CPU time"
   ]
  },
  {
   "cell_type": "markdown",
   "metadata": {},
   "source": [
    "#### `%%time` prints the wall time for the entire cell whereas `%time` gives you the time for first line only\n",
    "\n",
    "Using `%%time` or `%time` prints 2 values: CPU Times and Wall Time"
   ]
  },
  {
   "cell_type": "code",
   "execution_count": 6,
   "metadata": {},
   "outputs": [
    {
     "name": "stdout",
     "output_type": "stream",
     "text": [
      "I'm timing output 0\n",
      "I'm timing output 1\n",
      "I'm timing output 2\n",
      "I'm timing output 3\n",
      "I'm timing output 4\n",
      "I'm timing output 5\n",
      "I'm timing output 6\n",
      "I'm timing output 7\n",
      "I'm timing output 8\n",
      "I'm timing output 9\n",
      "I'm timing output 10\n",
      "I'm timing output 11\n",
      "I'm timing output 12\n",
      "I'm timing output 13\n",
      "I'm timing output 14\n",
      "I'm timing output 15\n",
      "I'm timing output 16\n",
      "I'm timing output 17\n",
      "I'm timing output 18\n",
      "I'm timing output 19\n",
      "CPU times: user 458 µs, sys: 235 µs, total: 693 µs\n",
      "Wall time: 508 µs\n"
     ]
    }
   ],
   "source": [
    "%%time\n",
    "for i in range (0,20):\n",
    "    print (\"I'm timing output {}\".format(i))"
   ]
  },
  {
   "cell_type": "code",
   "execution_count": null,
   "metadata": {},
   "outputs": [],
   "source": [
    "%time\n",
    "for i in range (0,20):\n",
    "    print (\"I'm timing output {}\".format(i))"
   ]
  },
  {
   "cell_type": "markdown",
   "metadata": {},
   "source": [
    "### 13. Popular Data Science Python Libraries"
   ]
  },
  {
   "cell_type": "code",
   "execution_count": null,
   "metadata": {},
   "outputs": [],
   "source": [
    "#Import Python Libraries and Press Shift+Enterto execute the jupytercell\n",
    "import numpy as np        # data prep \n",
    "import pandas as pd       # data prep\n",
    "import scipy as sp        # math and stat\n",
    "import matplotlib as mpl  # data visualization\n",
    "import seaborn as sbn     # data visualization\n",
    "import sklearn as skl     # machine learning"
   ]
  },
  {
   "cell_type": "markdown",
   "metadata": {},
   "source": [
    "### Numpy\n",
    "\n",
    "- Introduces objects for multidimensional arrays and matrices, as well as functions that allow to easily perform advanced mathematical and statistical operations on those objects \n",
    "- Provides vectorization of mathematical operations on arrays and matrices which significantly improves the performance \n",
    "- Many other python libraries are built on Numpy\n",
    "- http://www.numpy.org/"
   ]
  },
  {
   "cell_type": "markdown",
   "metadata": {},
   "source": [
    "### Pandas\n",
    "- Adds data structures and tools designed to work with table-like data (similar to series and data frames in R) \n",
    "- Provides tools for data manipulation: reshaping, merging, sorting, slicing, aggregation etc. \n",
    "- Allows handling missing data\n",
    "- http://pandas.pydata.org/\n"
   ]
  },
  {
   "cell_type": "markdown",
   "metadata": {},
   "source": [
    "### Scipy: \n",
    "- Collection of algorithms for linear algebra, differential equations, numerical integration, optimization, statistics and more \n",
    "- Part of SciPy Stack \n",
    "- Built on Numpy\n",
    "- https://www.scipy.org/scipylib/"
   ]
  },
  {
   "cell_type": "markdown",
   "metadata": {},
   "source": [
    "### Matplotlib:\n",
    "- Python 2D plotting library which produces publication quality figures in a variety of hardcopy formats\n",
    "\n",
    "- A set of functionalities similar to those of MATLAB\n",
    "\n",
    "- Line plots, scatter plots, barcharts, histograms, pie charts etc.\n",
    "\n",
    "- Relatively low-level; some effort needed to create advanced visualization\n",
    "- https://matplotlib.org/\n"
   ]
  },
  {
   "cell_type": "markdown",
   "metadata": {},
   "source": [
    "### Seaborn:\n",
    "\n",
    "- Based on matplotlib\n",
    "- Provides high level interface for drawing attractive statistical graphics\n",
    "- Similar (in style) to the popular ggplot2 library in R\n",
    "- https://seaborn.pydata.org/"
   ]
  },
  {
   "cell_type": "markdown",
   "metadata": {},
   "source": [
    "### Sklearn (scikit-learn):\n",
    "- Provides machine learning algorithms: classification, regression, clustering, model validation etc. \n",
    "- Built on NumPy, SciPy and matplotlib\n",
    "- http://scikit-learn.org/"
   ]
  },
  {
   "cell_type": "markdown",
   "metadata": {},
   "source": [
    "#### Note: The course materials are developed mainly based on personal experience and contributions from the Python learning community\n",
    "Referred book: Learning Python, 5th Edition by Mark Lutz\n",
    "    "
   ]
  },
  {
   "cell_type": "code",
   "execution_count": null,
   "metadata": {},
   "outputs": [],
   "source": []
  }
 ],
 "metadata": {
  "kernelspec": {
   "display_name": "Python 3",
   "language": "python",
   "name": "python3"
  },
  "language_info": {
   "codemirror_mode": {
    "name": "ipython",
    "version": 3
   },
   "file_extension": ".py",
   "mimetype": "text/x-python",
   "name": "python",
   "nbconvert_exporter": "python",
   "pygments_lexer": "ipython3",
   "version": "3.8.3"
  }
 },
 "nbformat": 4,
 "nbformat_minor": 4
}
