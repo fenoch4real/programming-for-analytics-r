{
 "cells": [
  {
   "cell_type": "markdown",
   "metadata": {},
   "source": [
    "# Python Basics for Data Science \n",
    "### IntroPython2.1 Python Basics-Operators  \n",
    "### IntroPython2.2 Python Basics-Variables and Data Types\n",
    "### IntroPython2.3 Python Basics-Data Structures\n",
    "### IntroPython2.4 Python Basics-Functions and Methods\n",
    "### IntroPython2.5 Python Basics-Create Our Own Function and Lambda\n",
    "### IntroPython2.6 Python Basics-If Statement\n",
    "### IntroPython2.7 Python Basics-Loops\n",
    "### IntroPython2.8 Python Basics-Python Syntax Essentials and Best Practice\n",
    "### IntroPython2.9 Python Basics-Import Statement and Important Built-in Modules\n",
    "***"
   ]
  },
  {
   "cell_type": "markdown",
   "metadata": {},
   "source": [
    "***\n",
    "\n",
    "# Python is for... \n",
    "### Web programming (Django, Pyramid, Bottle, Flask…)\n",
    "### GUI development (wxPython, tkinter, PyGtk, PyQt…)\n",
    "## `Scientific and Numeric (SciPy, NumPy, Pandas…) - this course focus`\n",
    "### Software development (Buildbot, Trac, Roundup…)\n",
    "### System Adminstraction (Ansible, Salt, OpenStack…)\n",
    "### Embedded computing (Raspberry Pi, McroPython, BeagleBone…)\n",
    "### Education (Raspberry Pi, Turtle, Robotics…)\n",
    "\n",
    "***\n",
    "\n",
    "#### The Python Language Reference: http://docs.python.org/2/reference/index.html\n",
    "#### The Python Standard Library: http://docs.python.org/2/library/\n",
    " \n",
    "***"
   ]
  },
  {
   "cell_type": "markdown",
   "metadata": {},
   "source": [
    "## Operators: Arithmetic, Logical, Comparison, Assignment, and Precedence \n",
    "Operators are used to perform operations on values and variables. Operators can manipulate individual items and returns a result. The data items are referred to as operands or arguments. Operators are either represented by keywords or special characters. For example, for identity operators we use keywords **\"is\"** and **\"is not\"**. \n",
    "\n",
    "#### 1. Arithmetic Operators \n",
    "\n",
    "#### 2. Comparison Operators \n",
    "\n",
    "#### 3. Assignment Operators \n",
    "\n",
    "#### 4. Logical Operators \n",
    "\n",
    "#### 5. Membership Operators \n",
    "\n",
    "#### 6. Identity Operators \n",
    "\n",
    "#### 7. Operator precedence "
   ]
  },
  {
   "cell_type": "markdown",
   "metadata": {},
   "source": [
    "## 1. Arithmetic Operators\n",
    "\n",
    "Arithmetic operators perform various arithmetic calculations like **addition, subtraction, multiplication, division, modulus, exponent**, etc. There are various methods for arithmetic calculation in Python like you can use the eval function, declare variable & calculate, or call functions. \n",
    "\n",
    "Similarly, you can use other arithmetic operators like for multiplication(`*`), division (`/`), substraction (`-`), etc. "
   ]
  },
  {
   "cell_type": "code",
   "execution_count": null,
   "metadata": {},
   "outputs": [],
   "source": [
    "# Example: For arithmetic operators we will take a simple example of addition where we will add two digits 4+5=9 \n",
    "x= 4\n",
    "y= 5\n",
    "print(x + y)"
   ]
  },
  {
   "cell_type": "code",
   "execution_count": null,
   "metadata": {},
   "outputs": [],
   "source": [
    "1+1"
   ]
  },
  {
   "cell_type": "code",
   "execution_count": null,
   "metadata": {},
   "outputs": [],
   "source": [
    "2*2"
   ]
  },
  {
   "cell_type": "code",
   "execution_count": null,
   "metadata": {},
   "outputs": [],
   "source": [
    "3/9"
   ]
  },
  {
   "cell_type": "code",
   "execution_count": null,
   "metadata": {},
   "outputs": [],
   "source": [
    "5-3"
   ]
  },
  {
   "cell_type": "markdown",
   "metadata": {},
   "source": [
    "## 2. Comparison Operators\n",
    "These operators compare the values on either side of the operand and determine the relation between them. It is also referred to as **relational operators**. Various comparison operators are **( `==`, `!=` , `<>`, `>`, `<=`, etc.)**"
   ]
  },
  {
   "cell_type": "markdown",
   "metadata": {},
   "source": [
    "#### Example: Compare the value of x to the value of y and print the result in true or false."
   ]
  },
  {
   "cell_type": "code",
   "execution_count": 1,
   "metadata": {},
   "outputs": [
    {
     "name": "stdout",
     "output_type": "stream",
     "text": [
      "('x > y is', False)\n"
     ]
    }
   ],
   "source": [
    "x = 4\n",
    "y = 5\n",
    "print(('x > y is',x > y))"
   ]
  },
  {
   "cell_type": "markdown",
   "metadata": {},
   "source": [
    "#### Likewise, you can try other comparison operators (x < y, x==y, x!=y, etc.) "
   ]
  },
  {
   "cell_type": "code",
   "execution_count": null,
   "metadata": {},
   "outputs": [],
   "source": [
    "x==y"
   ]
  },
  {
   "cell_type": "code",
   "execution_count": null,
   "metadata": {},
   "outputs": [],
   "source": [
    "x!=y"
   ]
  },
  {
   "cell_type": "markdown",
   "metadata": {},
   "source": [
    "## 3. Assignment Operators\n",
    "\n",
    "Python assignment operators are used for `assigning the value of the right operand to the left operand`. Various assignment operators used in Python are (`+=`, `=`, `*=`, `/=` , etc.) "
   ]
  },
  {
   "cell_type": "markdown",
   "metadata": {},
   "source": [
    "#### Example: Use Python assignment operators to simply assign the value"
   ]
  },
  {
   "cell_type": "code",
   "execution_count": 2,
   "metadata": {},
   "outputs": [
    {
     "name": "stdout",
     "output_type": "stream",
     "text": [
      "Hello from Me\n",
      "Hello from You\n"
     ]
    }
   ],
   "source": [
    "var1 = 'Me'\n",
    "var2 = 'You'\n",
    "print(\"Hello from \" + var1)\n",
    "print(\"Hello from \" + var2)"
   ]
  },
  {
   "cell_type": "code",
   "execution_count": 3,
   "metadata": {},
   "outputs": [
    {
     "name": "stdout",
     "output_type": "stream",
     "text": [
      "Hello from  Me\n",
      "Hello from  You\n"
     ]
    }
   ],
   "source": [
    "var1 = 'Me'\n",
    "var2 = 'You'\n",
    "print(\"Hello from \", var1)\n",
    "print(\"Hello from \", var2)"
   ]
  },
  {
   "cell_type": "markdown",
   "metadata": {},
   "source": [
    "### Example: Compound assignment operator "
   ]
  },
  {
   "cell_type": "code",
   "execution_count": 3,
   "metadata": {},
   "outputs": [
    {
     "name": "stdout",
     "output_type": "stream",
     "text": [
      "Cumulative Total is 13\n"
     ]
    }
   ],
   "source": [
    "# We can also use a compound assignment operator, where you can add, subtract, multiply right operand to left and \n",
    "# assign addition (or any other arithmetic function) to the left operand. \n",
    "\n",
    "# Step 1: Assign value to num1 and num2 \n",
    "var3 = 4\n",
    "var4 = 5\n",
    "\n",
    "# Step 2: Add value of num1 and num2 (4+5=9)\n",
    "tot = var3 + var4\n",
    "\n",
    "# Step 3: To this result add num1 to the output of Step 2 (9+4)\n",
    "tot += var3\n",
    "\n",
    "# Step 4: It will print the final result as 13\n",
    "print('Cumulative Total is ' + str(tot))"
   ]
  },
  {
   "cell_type": "markdown",
   "metadata": {},
   "source": [
    "## 4. Logical Operators\n",
    "Logical operators in Python are used for conditional statements are true or false. Logical operators in Python are **and**, **or** and **not**. For logical operators following condition are applied. \n",
    "\n",
    "•\tFor **and** operator – returns TRUE if both the operands (right side and left side) are true\n",
    "\n",
    "•\tFor **or** operator - returns TRUE if either of the operands (right side or left side) is true (or if both are true)\n",
    "\n",
    "•\tFor **not** operator - returns TRUE if operand is false"
   ]
  },
  {
   "cell_type": "code",
   "execution_count": null,
   "metadata": {},
   "outputs": [],
   "source": [
    "# Example: we get true or false based on the value of a and b \n",
    "a = True\n",
    "b = False\n",
    "print(('not a is',not a))\n",
    "print(('b is',b))\n",
    "print(('a and b is',a and b))\n",
    "print(('a or b is',a or b))"
   ]
  },
  {
   "cell_type": "markdown",
   "metadata": {},
   "source": [
    "## 5. Membership Operators\n",
    "\n",
    "There are two membership operators that are used in Python: (**`in`**, **`not in`**) to test for membership in a sequence such as lists, strings or tuples. It gives the result based on the variable present in specified sequence or string."
   ]
  },
  {
   "cell_type": "code",
   "execution_count": null,
   "metadata": {},
   "outputs": [],
   "source": [
    "# Example: we check whether the value of x=4 and value of y=8 is available in list or not, \n",
    "# by using in and not in operators. \n",
    "# Declare the value for x and y \n",
    "x = 4\n",
    "y = 8\n",
    "\n",
    "# Declare the value of list\n",
    "list = [1, 2, 3, 4, 5]\n",
    "\n",
    "# Use the \"in\" operator with if statement to check the value of x existing in the list \n",
    "#  and print the result accordingly\n",
    "if (x in list ):\n",
    "    print(\"Line 1 - x is available in the given list\")\n",
    "else:\n",
    "    print(\"Line 1 - x is not available in the given list\")"
   ]
  },
  {
   "cell_type": "code",
   "execution_count": null,
   "metadata": {},
   "outputs": [],
   "source": [
    "# Use the \"not in\" operator with if statement to check the value of y exist in the list \n",
    "#  and print the result accordingly\n",
    "if (y not in list ):\n",
    "    print(\"Line 2 - y is not available in the given list\")\n",
    "else:\n",
    "    print(\"Line 2 - y is available in the given list\")\n",
    "\n",
    "# Run the code - When the code is run it gives the desired output"
   ]
  },
  {
   "cell_type": "code",
   "execution_count": null,
   "metadata": {},
   "outputs": [],
   "source": [
    "# Exercise: Use z = 'good' to test if z is in the string 'Sandy is a good dog'\n",
    "z = 'good'\n",
    "if (z in 'Sandy is a good dog'):\n",
    "    print(\"True\")\n",
    "else:\n",
    "    print(\"False\")"
   ]
  },
  {
   "cell_type": "code",
   "execution_count": null,
   "metadata": {},
   "outputs": [],
   "source": [
    "# Exercise: w = \"100\" to test in w is in [0,1,10,100,1000]\n"
   ]
  },
  {
   "cell_type": "markdown",
   "metadata": {},
   "source": [
    "## 6. Identity Operators\n",
    "\n",
    "To compare the memory location of two objects, identity operators are used. The two identity operators used in Python are (**is**, **is not**). \n",
    "\n",
    "•\tOperator **is**: It returns `true` if two variables point to the same object and false otherwise.\n",
    "\n",
    "•\tOperator **is not**: It returns `false` if two variables point to the same object and true otherwise.\n",
    "\n",
    "Following operands are in decreasing order of precedence. Operators in the same box evaluate left to right. "
   ]
  },
  {
   "cell_type": "code",
   "execution_count": null,
   "metadata": {},
   "outputs": [],
   "source": [
    "# Example: \n",
    "Sandy = 7\n",
    "Baily = 7\n",
    "if (Sandy is Baily): print(\"Sandy and Bailey are same old\")"
   ]
  },
  {
   "cell_type": "code",
   "execution_count": null,
   "metadata": {},
   "outputs": [],
   "source": [
    "Lucy = 15\n",
    "if (Sandy is not Lucy): print(\"Sandy and Lucy are not same old\")"
   ]
  },
  {
   "cell_type": "code",
   "execution_count": null,
   "metadata": {},
   "outputs": [],
   "source": [
    "# Exercise: Today temp = 70; 65 degree is considered as warm in Chicago\n",
    "\n"
   ]
  },
  {
   "cell_type": "markdown",
   "metadata": {},
   "source": [
    "## 7. Operator precedence\n",
    "\n",
    "The operator precedence determines which operators need to be evaluated first. To avoid ambiguity in values, precedence operators are necessary. Just like in normal multiplication method, multiplication has a higher precedence than addition. "
   ]
  },
  {
   "cell_type": "markdown",
   "metadata": {},
   "source": [
    "|Operators (Decreasing order of precedence) |Meaning                                           |\n",
    "|---                                        |  ---                                             |                \n",
    "|`**`                                       |Exponent                                          |\n",
    "|`*, /, //, %`                              |Multiplication, Division, Floor division, Modulus |\n",
    "|`+, -`                                     |Addition, Subtraction                             |\n",
    "|`<=, <, >, >=`                             |Comparison operators                              |\n",
    "|`=, %=, /=, //=, -=, +=, *=, **=`          |Assignment Operators                              |\n",
    "|`is, is not`                               |Identity operators                                |\n",
    "|`in, not in`                               |Membership operators                              |\n",
    "|`not, or, and`                             |Logical operators                                 |"
   ]
  },
  {
   "cell_type": "code",
   "execution_count": null,
   "metadata": {},
   "outputs": [],
   "source": [
    "# Example: \n",
    "3+4*5    # the answer is 23, "
   ]
  },
  {
   "cell_type": "code",
   "execution_count": null,
   "metadata": {},
   "outputs": [],
   "source": [
    "# Example\n",
    "(3+4)*5   # to change the order of precedence we use parentheses, now the answer is 35. "
   ]
  },
  {
   "cell_type": "code",
   "execution_count": null,
   "metadata": {},
   "outputs": [],
   "source": [
    "v = 4\n",
    "w = 5\n",
    "x = 8\n",
    "y = 2\n",
    "z = 0\n",
    "z = (v+w) * x / y\n",
    "#z\n",
    "#print(\"(v+w) * x/y is \",  z)\n",
    "\n",
    "# Declare the value of variables v,w,x,y,z\n",
    "# Now apply the formula and run the code\n",
    "# The code will execute and calculate the result with higher precedence and will give the output\n",
    "# Use print() function to display the result"
   ]
  },
  {
   "cell_type": "markdown",
   "metadata": {},
   "source": [
    "## Summary:\n",
    "\n",
    "Operators in a programming language are used to perform various operations on values and variables. In Python, you can use operators as follows:\n",
    "\n",
    "•\tThere are various methods for arithmetic calculation in Python as you can use the eval function, declare variable & calculate, or call functions.\n",
    "\n",
    "•\tComparison operators often referred to as relational operators are used to compare the values on either side of them and determine the relation between them.\n",
    "\n",
    "•\tPython assignment operators are simply to assign the value to a variable.\n",
    "\n",
    "•\tPython also allows you to use a compound assignment operator, in a complicated arithmetic calculation, where you can assign the result of one operand to the other.\n",
    "\n",
    "•\tFor **and** operator – returns TRUE if both the operands (right side and left side) are true\n",
    "\n",
    "•\tFor **or** operator - returns TRUE if either of the operand (right side or left side) is true, or if both are true\n",
    "\n",
    "•\tFor **not** operator - returns TRUE if operand is false\n",
    "\n",
    "•\tThere are two membership operators that are used in Python. **(in, not in)**. It gives the result based on the variable present in specified sequence or string. \n",
    "\n",
    "•\tThe two identify operators used in Python are **(is, is not)**. It returns true if two variables point the same object and false otherwise\n",
    "\n",
    "•\tPrecedence operators can be useful when you have to set priority for which calculations need to be done first in a complex calculation."
   ]
  },
  {
   "cell_type": "markdown",
   "metadata": {},
   "source": [
    "## Exercises"
   ]
  },
  {
   "cell_type": "code",
   "execution_count": null,
   "metadata": {},
   "outputs": [],
   "source": [
    "# Simpson characters\n",
    "homer_age = 34\n",
    "marge_age = 32\n",
    "bart_age  = 10\n",
    "lisa_age  = 8\n",
    "maggie_age = 1"
   ]
  },
  {
   "cell_type": "code",
   "execution_count": null,
   "metadata": {},
   "outputs": [],
   "source": [
    "(marge_age < homer_age) and (marge_age > bart_age) # Marge's age is between Homer and Bart"
   ]
  },
  {
   "cell_type": "code",
   "execution_count": null,
   "metadata": {},
   "outputs": [],
   "source": [
    "#Is there anyone who is younger than lisa?\n",
    "anyone_younger_than_lisa = lisa_age > homer_age or lisa_age > marge_age or lisa_age > bart_age or lisa_age > maggie_age\n",
    "anyone_younger_than_lisa"
   ]
  },
  {
   "cell_type": "code",
   "execution_count": null,
   "metadata": {},
   "outputs": [],
   "source": [
    "homer_is_a_dad = True\n",
    "marge_is_a_mom = True\n",
    "\n",
    "marge_is_a_dad = False\n",
    "homer_is_a_mom = False"
   ]
  },
  {
   "cell_type": "code",
   "execution_count": null,
   "metadata": {},
   "outputs": [],
   "source": [
    "print(homer_is_a_dad and marge_is_a_mom)\n",
    "print(homer_is_a_dad and marge_is_a_dad)\n",
    "print(marge_is_a_dad and homer_is_a_dad)\n",
    "print(homer_is_a_mom and homer_is_a_mom)"
   ]
  },
  {
   "cell_type": "code",
   "execution_count": null,
   "metadata": {},
   "outputs": [],
   "source": [
    "print(homer_is_a_dad or marge_is_a_mom)\n",
    "print(homer_is_a_dad or marge_is_a_dad)\n",
    "print(marge_is_a_dad or homer_is_a_dad)\n",
    "print(homer_is_a_mom or homer_is_a_mom)"
   ]
  },
  {
   "cell_type": "markdown",
   "metadata": {},
   "source": [
    "Here is the full **truth table**:\n",
    "\n",
    "|Statement A | Statement B| A and B | A or B|\n",
    "| ---        | ---        | ---     | ---   |\n",
    "| True       | True       | True    | True  |\n",
    "| True       | False      | False   | True  |\n",
    "| False      | True       | False   | True  |\n",
    "| False      | False      | False   | False |"
   ]
  },
  {
   "cell_type": "markdown",
   "metadata": {},
   "source": [
    "#### Note: The course materials are developed mainly based on personal experience and contributions from the Python learning community\n",
    "Referred book: Learning Python, 5th Edition by Mark Lutz"
   ]
  },
  {
   "cell_type": "code",
   "execution_count": null,
   "metadata": {},
   "outputs": [],
   "source": []
  }
 ],
 "metadata": {
  "kernelspec": {
   "display_name": "Python 3",
   "language": "python",
   "name": "python3"
  },
  "language_info": {
   "codemirror_mode": {
    "name": "ipython",
    "version": 3
   },
   "file_extension": ".py",
   "mimetype": "text/x-python",
   "name": "python",
   "nbconvert_exporter": "python",
   "pygments_lexer": "ipython3",
   "version": "3.8.3"
  }
 },
 "nbformat": 4,
 "nbformat_minor": 4
}
